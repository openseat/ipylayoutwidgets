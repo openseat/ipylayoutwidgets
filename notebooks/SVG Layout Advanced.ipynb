{
 "cells": [
  {
   "cell_type": "markdown",
   "metadata": {},
   "source": [
    "# SVG Layout\n",
    "HTML is not ideal for arbitrary layouts. Let's make a wireframe in [Inkscape](http://www.inkscape.org/en/), the free software illustration program. Here's what we made:"
   ]
  },
  {
   "cell_type": "code",
   "execution_count": 83,
   "metadata": {
    "collapsed": false
   },
   "outputs": [],
   "source": [
    "from ipywidgets import widgets as W\n",
    "import traitlets as T\n",
    "from IPython.display import display as show\n",
    "\n",
    "from ipylayoutwidgets import widgets as DW"
   ]
  },
  {
   "cell_type": "markdown",
   "metadata": {},
   "source": [
    "Let's add it as a layout layer. Here, we specify an `svg_file` rather than loading it ourselves, because of the tricky `©` character."
   ]
  },
  {
   "cell_type": "code",
   "execution_count": 84,
   "metadata": {
    "collapsed": false
   },
   "outputs": [],
   "source": [
    "button = W.Button(description=\"Show SVG\")"
   ]
  },
  {
   "cell_type": "code",
   "execution_count": 85,
   "metadata": {
    "collapsed": true
   },
   "outputs": [],
   "source": [
    "slider = W.IntSlider(min=0, max=3, description=\"Slide to reveal\")"
   ]
  },
  {
   "cell_type": "code",
   "execution_count": 86,
   "metadata": {
    "collapsed": true
   },
   "outputs": [],
   "source": [
    "picture = W.HTML('<img src=\"http://jupyter.org/assets/main-logo.svg\" class=\"img-responsive\" />')"
   ]
  },
  {
   "cell_type": "code",
   "execution_count": 87,
   "metadata": {
    "collapsed": true
   },
   "outputs": [],
   "source": [
    "color = W.ColorPicker()"
   ]
  },
  {
   "cell_type": "code",
   "execution_count": 88,
   "metadata": {
    "collapsed": false
   },
   "outputs": [],
   "source": [
    "out = W.Output()"
   ]
  },
  {
   "cell_type": "code",
   "execution_count": 89,
   "metadata": {
    "collapsed": false
   },
   "outputs": [],
   "source": [
    "@W.interactive\n",
    "def power(x=1.0, y=1.0):\n",
    "    with out:\n",
    "        print(x ** y)"
   ]
  },
  {
   "cell_type": "code",
   "execution_count": 90,
   "metadata": {
    "collapsed": false
   },
   "outputs": [],
   "source": [
    "dashboard = DW.FullscreenBox()\n",
    "\n",
    "regions = {\n",
    "    \"slider\": slider,\n",
    "    \"content.*\": button,\n",
    "    \"main.*\": picture,\n",
    "    \"extra-bottom.*\": color,\n",
    "    \"extra-right.*\": W.Box(children=[\n",
    "        power, out\n",
    "    ])\n",
    "}\n",
    "\n",
    "layout = DW.SVGLayoutBox(\n",
    "    svg_file=\"layout-advanced.svg\",\n",
    "    widget_map=regions,\n",
    "    children=list(regions.values()),\n",
    "    visible_layers=[\"slider\"],\n",
    "    show_svg=False\n",
    ")\n",
    "\n",
    "dashboard.children = [layout]"
   ]
  },
  {
   "cell_type": "code",
   "execution_count": 91,
   "metadata": {
    "collapsed": false
   },
   "outputs": [],
   "source": [
    "@button.on_click\n",
    "def click(foo):\n",
    "    layout.show_svg = not layout.show_svg\n",
    "    button.description = \"Hide Layout\" if layout.show_svg else \"Show Layout\""
   ]
  },
  {
   "cell_type": "code",
   "execution_count": 92,
   "metadata": {
    "collapsed": false
   },
   "outputs": [],
   "source": [
    "@slider.on_trait_change\n",
    "def slide(name, old, new):\n",
    "    if name != \"value\":\n",
    "        return\n",
    "\n",
    "    layout.visible_layers = [\"slider\"] + ([\"*.{}\".format(new)] if new else [])"
   ]
  },
  {
   "cell_type": "code",
   "execution_count": 93,
   "metadata": {
    "collapsed": true
   },
   "outputs": [],
   "source": [
    "@color.on_trait_change\n",
    "def colorize(name, old, new):\n",
    "    if name != \"value\":\n",
    "        return\n",
    "\n",
    "    dashboard.background_color = new"
   ]
  },
  {
   "cell_type": "code",
   "execution_count": 94,
   "metadata": {
    "collapsed": false
   },
   "outputs": [],
   "source": [
    "dashboard"
   ]
  }
 ],
 "metadata": {
  "kernelspec": {
   "display_name": "Python 3",
   "language": "python",
   "name": "python3"
  },
  "language_info": {
   "codemirror_mode": {
    "name": "ipython",
    "version": 3
   },
   "file_extension": ".py",
   "mimetype": "text/x-python",
   "name": "python",
   "nbconvert_exporter": "python",
   "pygments_lexer": "ipython3",
   "version": "3.5.0"
  }
 },
 "nbformat": 4,
 "nbformat_minor": 0
}
