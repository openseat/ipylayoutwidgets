{
 "cells": [
  {
   "cell_type": "markdown",
   "metadata": {},
   "source": [
    "# SVG Layout\n",
    "HTML is not ideal for arbitrary layouts. Let's make a wireframe in [Inkscape](http://www.inkscape.org/en/), the free software illustration program. Here's what we made:"
   ]
  },
  {
   "cell_type": "code",
   "execution_count": 1,
   "metadata": {
    "collapsed": false
   },
   "outputs": [],
   "source": [
    "from ipywidgets import widgets as W\n",
    "import traitlets as T\n",
    "from IPython.display import display as show\n",
    "\n",
    "from ipylayoutwidgets import widgets as DW"
   ]
  },
  {
   "cell_type": "markdown",
   "metadata": {},
   "source": [
    "Let's add it as a layout layer. Here, we specify an `svg_file` rather than loading it ourselves, because of the tricky `©` character."
   ]
  },
  {
   "cell_type": "code",
   "execution_count": 2,
   "metadata": {
    "collapsed": false
   },
   "outputs": [],
   "source": [
    "dashboard = DW.FullscreenBox()\n",
    "\n",
    "button = W.Button(description=\"Click me\")\n",
    "\n",
    "regions = dict(\n",
    "    sidebar=button\n",
    ")\n",
    "\n",
    "layout = DW.SVGLayoutBox(\n",
    "    svg_file=\"layout.svg\",\n",
    "    widget_map=regions,\n",
    "    children=list(regions.values())\n",
    ")\n",
    "\n",
    "dashboard.children = [layout]"
   ]
  },
  {
   "cell_type": "code",
   "execution_count": 3,
   "metadata": {
    "collapsed": false
   },
   "outputs": [],
   "source": [
    "dashboard"
   ]
  },
  {
   "cell_type": "code",
   "execution_count": 4,
   "metadata": {
    "collapsed": false
   },
   "outputs": [],
   "source": [
    "def click(foo):\n",
    "    button.description += \"!\""
   ]
  },
  {
   "cell_type": "code",
   "execution_count": 5,
   "metadata": {
    "collapsed": false
   },
   "outputs": [],
   "source": [
    "button.on_click(click)"
   ]
  }
 ],
 "metadata": {
  "kernelspec": {
   "display_name": "Python 3",
   "language": "python",
   "name": "python3"
  },
  "language_info": {
   "codemirror_mode": {
    "name": "ipython",
    "version": 3
   },
   "file_extension": ".py",
   "mimetype": "text/x-python",
   "name": "python",
   "nbconvert_exporter": "python",
   "pygments_lexer": "ipython3",
   "version": "3.5.0"
  }
 },
 "nbformat": 4,
 "nbformat_minor": 0
}
